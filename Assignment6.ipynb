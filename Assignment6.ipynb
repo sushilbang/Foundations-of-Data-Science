{
 "cells": [
  {
   "cell_type": "markdown",
   "id": "6559dfd5",
   "metadata": {},
   "source": [
    "# Assignment 6"
   ]
  },
  {
   "cell_type": "code",
   "execution_count": 21,
   "id": "a663f35e",
   "metadata": {},
   "outputs": [],
   "source": [
    "\n",
    "import pandas as pd\n",
    "import numpy as np\n",
    "import seaborn as sns\n",
    "import matplotlib.pyplot as plt\n"
   ]
  },
  {
   "cell_type": "markdown",
   "id": "a24e95c0",
   "metadata": {},
   "source": [
    "##  Loading the dataset"
   ]
  },
  {
   "cell_type": "code",
   "execution_count": 22,
   "id": "2b35d2f9",
   "metadata": {},
   "outputs": [
    {
     "data": {
      "text/html": [
       "<div>\n",
       "<style scoped>\n",
       "    .dataframe tbody tr th:only-of-type {\n",
       "        vertical-align: middle;\n",
       "    }\n",
       "\n",
       "    .dataframe tbody tr th {\n",
       "        vertical-align: top;\n",
       "    }\n",
       "\n",
       "    .dataframe thead th {\n",
       "        text-align: right;\n",
       "    }\n",
       "</style>\n",
       "<table border=\"1\" class=\"dataframe\">\n",
       "  <thead>\n",
       "    <tr style=\"text-align: right;\">\n",
       "      <th></th>\n",
       "      <th>Age</th>\n",
       "      <th>Sex</th>\n",
       "      <th>ChestPainType</th>\n",
       "      <th>RestingBP</th>\n",
       "      <th>Cholesterol</th>\n",
       "      <th>FastingBS</th>\n",
       "      <th>RestingECG</th>\n",
       "      <th>MaxHR</th>\n",
       "      <th>ExerciseAngina</th>\n",
       "      <th>Oldpeak</th>\n",
       "      <th>ST_Slope</th>\n",
       "      <th>HeartDisease</th>\n",
       "    </tr>\n",
       "  </thead>\n",
       "  <tbody>\n",
       "    <tr>\n",
       "      <th>0</th>\n",
       "      <td>40</td>\n",
       "      <td>M</td>\n",
       "      <td>ATA</td>\n",
       "      <td>140</td>\n",
       "      <td>289</td>\n",
       "      <td>0</td>\n",
       "      <td>Normal</td>\n",
       "      <td>172</td>\n",
       "      <td>N</td>\n",
       "      <td>0.0</td>\n",
       "      <td>Up</td>\n",
       "      <td>0</td>\n",
       "    </tr>\n",
       "    <tr>\n",
       "      <th>1</th>\n",
       "      <td>49</td>\n",
       "      <td>F</td>\n",
       "      <td>NAP</td>\n",
       "      <td>160</td>\n",
       "      <td>180</td>\n",
       "      <td>0</td>\n",
       "      <td>Normal</td>\n",
       "      <td>156</td>\n",
       "      <td>N</td>\n",
       "      <td>1.0</td>\n",
       "      <td>Flat</td>\n",
       "      <td>1</td>\n",
       "    </tr>\n",
       "    <tr>\n",
       "      <th>2</th>\n",
       "      <td>37</td>\n",
       "      <td>M</td>\n",
       "      <td>ATA</td>\n",
       "      <td>130</td>\n",
       "      <td>283</td>\n",
       "      <td>0</td>\n",
       "      <td>ST</td>\n",
       "      <td>98</td>\n",
       "      <td>N</td>\n",
       "      <td>0.0</td>\n",
       "      <td>Up</td>\n",
       "      <td>0</td>\n",
       "    </tr>\n",
       "    <tr>\n",
       "      <th>3</th>\n",
       "      <td>48</td>\n",
       "      <td>F</td>\n",
       "      <td>ASY</td>\n",
       "      <td>138</td>\n",
       "      <td>214</td>\n",
       "      <td>0</td>\n",
       "      <td>Normal</td>\n",
       "      <td>108</td>\n",
       "      <td>Y</td>\n",
       "      <td>1.5</td>\n",
       "      <td>Flat</td>\n",
       "      <td>1</td>\n",
       "    </tr>\n",
       "    <tr>\n",
       "      <th>4</th>\n",
       "      <td>54</td>\n",
       "      <td>M</td>\n",
       "      <td>NAP</td>\n",
       "      <td>150</td>\n",
       "      <td>195</td>\n",
       "      <td>0</td>\n",
       "      <td>Normal</td>\n",
       "      <td>122</td>\n",
       "      <td>N</td>\n",
       "      <td>0.0</td>\n",
       "      <td>Up</td>\n",
       "      <td>0</td>\n",
       "    </tr>\n",
       "  </tbody>\n",
       "</table>\n",
       "</div>"
      ],
      "text/plain": [
       "   Age Sex ChestPainType  RestingBP  Cholesterol  FastingBS RestingECG  MaxHR  \\\n",
       "0   40   M           ATA        140          289          0     Normal    172   \n",
       "1   49   F           NAP        160          180          0     Normal    156   \n",
       "2   37   M           ATA        130          283          0         ST     98   \n",
       "3   48   F           ASY        138          214          0     Normal    108   \n",
       "4   54   M           NAP        150          195          0     Normal    122   \n",
       "\n",
       "  ExerciseAngina  Oldpeak ST_Slope  HeartDisease  \n",
       "0              N      0.0       Up             0  \n",
       "1              N      1.0     Flat             1  \n",
       "2              N      0.0       Up             0  \n",
       "3              Y      1.5     Flat             1  \n",
       "4              N      0.0       Up             0  "
      ]
     },
     "execution_count": 22,
     "metadata": {},
     "output_type": "execute_result"
    }
   ],
   "source": [
    "\n",
    "df = pd.read_csv(\"heart.csv\")\n",
    "\n",
    "df.head()\n"
   ]
  },
  {
   "cell_type": "markdown",
   "id": "9d46f851",
   "metadata": {},
   "source": [
    "##  Identifing and handling the missing values"
   ]
  },
  {
   "cell_type": "code",
   "execution_count": 23,
   "id": "8fe7690f",
   "metadata": {},
   "outputs": [
    {
     "name": "stdout",
     "output_type": "stream",
     "text": [
      "Missing values per column:\n",
      " Age               0\n",
      "Sex               0\n",
      "ChestPainType     0\n",
      "RestingBP         0\n",
      "Cholesterol       0\n",
      "FastingBS         0\n",
      "RestingECG        0\n",
      "MaxHR             0\n",
      "ExerciseAngina    0\n",
      "Oldpeak           0\n",
      "ST_Slope          0\n",
      "HeartDisease      0\n",
      "dtype: int64\n"
     ]
    }
   ],
   "source": [
    "\n",
    "missing_values = df.isnull().sum()\n",
    "print(\"Missing values per column:\\n\", missing_values)\n",
    "\n",
    "for column in df.columns:\n",
    "    if df[column].dtype == 'object':\n",
    "        df[column].fillna(df[column].mode()[0], inplace=True)\n",
    "    else:\n",
    "        df[column].fillna(df[column].median(), inplace=True)\n"
   ]
  },
  {
   "cell_type": "markdown",
   "id": "8cf60336",
   "metadata": {},
   "source": [
    "##  Removing the duplicate entries"
   ]
  },
  {
   "cell_type": "code",
   "execution_count": 24,
   "id": "e187099a",
   "metadata": {},
   "outputs": [
    {
     "data": {
      "text/plain": [
       "<Axes: >"
      ]
     },
     "execution_count": 24,
     "metadata": {},
     "output_type": "execute_result"
    },
    {
     "data": {
      "image/png": "[encoded data removed]",
      "text/plain": [
       "<Figure size 640x480 with 1 Axes>"
      ]
     },
     "metadata": {},
     "output_type": "display_data"
    }
   ],
   "source": [
    "sns.boxplot(df)\n"
   ]
  },
  {
   "cell_type": "markdown",
   "id": "d57d36c2",
   "metadata": {},
   "source": [
    "##  Handling outliers using IQR"
   ]
  },
  {
   "cell_type": "code",
   "execution_count": 25,
   "id": "dff984f9",
   "metadata": {},
   "outputs": [],
   "source": [
    "\n",
    "for column in df.select_dtypes(include=['float64', 'int64']).columns:\n",
    "    Q1 = df[column].quantile(0.25)\n",
    "    Q3 = df[column].quantile(0.75)\n",
    "    IQR = Q3 - Q1\n",
    "    lower_bound = Q1 - 1.5 * IQR\n",
    "    upper_bound = Q3 + 1.5 * IQR\n",
    "    df[column] = np.where(df[column] < lower_bound, lower_bound, df[column])\n",
    "    df[column] = np.where(df[column] > upper_bound, upper_bound, df[column])\n"
   ]
  },
  {
   "cell_type": "markdown",
   "id": "cf096eb5",
   "metadata": {},
   "source": [
    "##  Error correction for specific column values"
   ]
  },
  {
   "cell_type": "code",
   "execution_count": 26,
   "id": "0fc08e3c",
   "metadata": {},
   "outputs": [],
   "source": [
    "\n",
    "df['RestingBP'] = np.where(df['RestingBP'] == 0, df['RestingBP'].median(), df['RestingBP'])\n",
    "df['Cholesterol'] = np.where(df['Cholesterol'] == 0, df['Cholesterol'].median(), df['Cholesterol'])\n"
   ]
  },
  {
   "cell_type": "code",
   "execution_count": 27,
   "id": "becd2596",
   "metadata": {},
   "outputs": [
    {
     "data": {
      "text/html": [
       "<div>\n",
       "<style scoped>\n",
       "    .dataframe tbody tr th:only-of-type {\n",
       "        vertical-align: middle;\n",
       "    }\n",
       "\n",
       "    .dataframe tbody tr th {\n",
       "        vertical-align: top;\n",
       "    }\n",
       "\n",
       "    .dataframe thead th {\n",
       "        text-align: right;\n",
       "    }\n",
       "</style>\n",
       "<table border=\"1\" class=\"dataframe\">\n",
       "  <thead>\n",
       "    <tr style=\"text-align: right;\">\n",
       "      <th></th>\n",
       "      <th>Age</th>\n",
       "      <th>RestingBP</th>\n",
       "      <th>Cholesterol</th>\n",
       "      <th>FastingBS</th>\n",
       "      <th>MaxHR</th>\n",
       "      <th>Oldpeak</th>\n",
       "      <th>HeartDisease</th>\n",
       "    </tr>\n",
       "  </thead>\n",
       "  <tbody>\n",
       "    <tr>\n",
       "      <th>count</th>\n",
       "      <td>918.000000</td>\n",
       "      <td>918.000000</td>\n",
       "      <td>918.000000</td>\n",
       "      <td>918.0</td>\n",
       "      <td>918.000000</td>\n",
       "      <td>918.000000</td>\n",
       "      <td>918.000000</td>\n",
       "    </tr>\n",
       "    <tr>\n",
       "      <th>mean</th>\n",
       "      <td>53.510893</td>\n",
       "      <td>132.125272</td>\n",
       "      <td>203.985158</td>\n",
       "      <td>0.0</td>\n",
       "      <td>136.819172</td>\n",
       "      <td>0.877778</td>\n",
       "      <td>0.553377</td>\n",
       "    </tr>\n",
       "    <tr>\n",
       "      <th>std</th>\n",
       "      <td>9.432617</td>\n",
       "      <td>16.993314</td>\n",
       "      <td>95.922341</td>\n",
       "      <td>0.0</td>\n",
       "      <td>25.432057</td>\n",
       "      <td>1.031693</td>\n",
       "      <td>0.497414</td>\n",
       "    </tr>\n",
       "    <tr>\n",
       "      <th>min</th>\n",
       "      <td>28.000000</td>\n",
       "      <td>90.000000</td>\n",
       "      <td>32.625000</td>\n",
       "      <td>0.0</td>\n",
       "      <td>66.000000</td>\n",
       "      <td>-2.250000</td>\n",
       "      <td>0.000000</td>\n",
       "    </tr>\n",
       "    <tr>\n",
       "      <th>25%</th>\n",
       "      <td>47.000000</td>\n",
       "      <td>120.000000</td>\n",
       "      <td>173.250000</td>\n",
       "      <td>0.0</td>\n",
       "      <td>120.000000</td>\n",
       "      <td>0.000000</td>\n",
       "      <td>0.000000</td>\n",
       "    </tr>\n",
       "    <tr>\n",
       "      <th>50%</th>\n",
       "      <td>54.000000</td>\n",
       "      <td>130.000000</td>\n",
       "      <td>223.000000</td>\n",
       "      <td>0.0</td>\n",
       "      <td>138.000000</td>\n",
       "      <td>0.600000</td>\n",
       "      <td>1.000000</td>\n",
       "    </tr>\n",
       "    <tr>\n",
       "      <th>75%</th>\n",
       "      <td>60.000000</td>\n",
       "      <td>140.000000</td>\n",
       "      <td>267.000000</td>\n",
       "      <td>0.0</td>\n",
       "      <td>156.000000</td>\n",
       "      <td>1.500000</td>\n",
       "      <td>1.000000</td>\n",
       "    </tr>\n",
       "    <tr>\n",
       "      <th>max</th>\n",
       "      <td>77.000000</td>\n",
       "      <td>170.000000</td>\n",
       "      <td>407.625000</td>\n",
       "      <td>0.0</td>\n",
       "      <td>202.000000</td>\n",
       "      <td>3.750000</td>\n",
       "      <td>1.000000</td>\n",
       "    </tr>\n",
       "  </tbody>\n",
       "</table>\n",
       "</div>"
      ],
      "text/plain": [
       "              Age   RestingBP  Cholesterol  FastingBS       MaxHR     Oldpeak  \\\n",
       "count  918.000000  918.000000   918.000000      918.0  918.000000  918.000000   \n",
       "mean    53.510893  132.125272   203.985158        0.0  136.819172    0.877778   \n",
       "std      9.432617   16.993314    95.922341        0.0   25.432057    1.031693   \n",
       "min     28.000000   90.000000    32.625000        0.0   66.000000   -2.250000   \n",
       "25%     47.000000  120.000000   173.250000        0.0  120.000000    0.000000   \n",
       "50%     54.000000  130.000000   223.000000        0.0  138.000000    0.600000   \n",
       "75%     60.000000  140.000000   267.000000        0.0  156.000000    1.500000   \n",
       "max     77.000000  170.000000   407.625000        0.0  202.000000    3.750000   \n",
       "\n",
       "       HeartDisease  \n",
       "count    918.000000  \n",
       "mean       0.553377  \n",
       "std        0.497414  \n",
       "min        0.000000  \n",
       "25%        0.000000  \n",
       "50%        1.000000  \n",
       "75%        1.000000  \n",
       "max        1.000000  "
      ]
     },
     "execution_count": 27,
     "metadata": {},
     "output_type": "execute_result"
    }
   ],
   "source": [
    "df.describe()"
   ]
  },
  {
   "cell_type": "code",
   "execution_count": 28,
   "id": "d362f8c2",
   "metadata": {},
   "outputs": [
    {
     "data": {
      "text/plain": [
       "<Axes: >"
      ]
     },
     "execution_count": 28,
     "metadata": {},
     "output_type": "execute_result"
    },
    {
     "data": {
      "image/png": "[encoded data removed]",
      "text/plain": [
       "<Figure size 640x480 with 1 Axes>"
      ]
     },
     "metadata": {},
     "output_type": "display_data"
    }
   ],
   "source": [
    "sns.boxplot(df)"
   ]
  },
  {
   "cell_type": "markdown",
   "id": "267743cd",
   "metadata": {},
   "source": [
    "## Verify data consistency"
   ]
  },
  {
   "cell_type": "code",
   "execution_count": 29,
   "id": "d6260705",
   "metadata": {},
   "outputs": [
    {
     "name": "stdout",
     "output_type": "stream",
     "text": [
      "<class 'pandas.core.frame.DataFrame'>\n",
      "RangeIndex: 918 entries, 0 to 917\n",
      "Data columns (total 12 columns):\n",
      " #   Column          Non-Null Count  Dtype  \n",
      "---  ------          --------------  -----  \n",
      " 0   Age             918 non-null    float64\n",
      " 1   Sex             918 non-null    object \n",
      " 2   ChestPainType   918 non-null    object \n",
      " 3   RestingBP       918 non-null    float64\n",
      " 4   Cholesterol     918 non-null    float64\n",
      " 5   FastingBS       918 non-null    float64\n",
      " 6   RestingECG      918 non-null    object \n",
      " 7   MaxHR           918 non-null    float64\n",
      " 8   ExerciseAngina  918 non-null    object \n",
      " 9   Oldpeak         918 non-null    float64\n",
      " 10  ST_Slope        918 non-null    object \n",
      " 11  HeartDisease    918 non-null    float64\n",
      "dtypes: float64(7), object(5)\n",
      "memory usage: 86.2+ KB\n",
      "Data types and non-null counts:\n",
      " None\n",
      "\n",
      "Statistical summary:\n",
      "                Age  Sex ChestPainType   RestingBP  Cholesterol  FastingBS  \\\n",
      "count   918.000000  918           918  918.000000   918.000000      918.0   \n",
      "unique         NaN    2             4         NaN          NaN        NaN   \n",
      "top            NaN    M           ASY         NaN          NaN        NaN   \n",
      "freq           NaN  725           496         NaN          NaN        NaN   \n",
      "mean     53.510893  NaN           NaN  132.125272   203.985158        0.0   \n",
      "std       9.432617  NaN           NaN   16.993314    95.922341        0.0   \n",
      "min      28.000000  NaN           NaN   90.000000    32.625000        0.0   \n",
      "25%      47.000000  NaN           NaN  120.000000   173.250000        0.0   \n",
      "50%      54.000000  NaN           NaN  130.000000   223.000000        0.0   \n",
      "75%      60.000000  NaN           NaN  140.000000   267.000000        0.0   \n",
      "max      77.000000  NaN           NaN  170.000000   407.625000        0.0   \n",
      "\n",
      "       RestingECG       MaxHR ExerciseAngina     Oldpeak ST_Slope  \\\n",
      "count         918  918.000000            918  918.000000      918   \n",
      "unique          3         NaN              2         NaN        3   \n",
      "top        Normal         NaN              N         NaN     Flat   \n",
      "freq          552         NaN            547         NaN      460   \n",
      "mean          NaN  136.819172            NaN    0.877778      NaN   \n",
      "std           NaN   25.432057            NaN    1.031693      NaN   \n",
      "min           NaN   66.000000            NaN   -2.250000      NaN   \n",
      "25%           NaN  120.000000            NaN    0.000000      NaN   \n",
      "50%           NaN  138.000000            NaN    0.600000      NaN   \n",
      "75%           NaN  156.000000            NaN    1.500000      NaN   \n",
      "max           NaN  202.000000            NaN    3.750000      NaN   \n",
      "\n",
      "        HeartDisease  \n",
      "count     918.000000  \n",
      "unique           NaN  \n",
      "top              NaN  \n",
      "freq             NaN  \n",
      "mean        0.553377  \n",
      "std         0.497414  \n",
      "min         0.000000  \n",
      "25%         0.000000  \n",
      "50%         1.000000  \n",
      "75%         1.000000  \n",
      "max         1.000000  \n"
     ]
    }
   ],
   "source": [
    "\n",
    "print(\"Data types and non-null counts:\\n\", df.info())\n",
    "print(\"\\nStatistical summary:\\n\", df.describe(include='all'))\n"
   ]
  }
 ],
 "metadata": {
  "kernelspec": {
   "display_name": "base",
   "language": "python",
   "name": "python3"
  },
  "language_info": {
   "codemirror_mode": {
    "name": "ipython",
    "version": 3
   },
   "file_extension": ".py",
   "mimetype": "text/x-python",
   "name": "python",
   "nbconvert_exporter": "python",
   "pygments_lexer": "ipython3",
   "version": "3.11.7"
  }
 },
 "nbformat": 4,
 "nbformat_minor": 5
}
